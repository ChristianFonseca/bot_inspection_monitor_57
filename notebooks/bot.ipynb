{
 "cells": [
  {
   "cell_type": "code",
   "execution_count": 21,
   "metadata": {},
   "outputs": [],
   "source": [
    "from selenium import webdriver\n",
    "from selenium.webdriver.chrome.service import Service"
   ]
  },
  {
   "cell_type": "code",
   "execution_count": 22,
   "metadata": {},
   "outputs": [],
   "source": [
    "from bs4 import BeautifulSoup"
   ]
  },
  {
   "cell_type": "code",
   "execution_count": 23,
   "metadata": {},
   "outputs": [],
   "source": [
    "service = Service()\n",
    "options = webdriver.ChromeOptions()\n",
    "options.add_argument('--headless')  # Ejecutar en modo headless\n",
    "options.add_argument('--disable-gpu')  # Deshabilitar GPU para mejor rendimiento\n",
    "options.add_argument('--no-sandbox')  # Deshabilitar sandbox para mejor rendimiento\n",
    "options.add_argument('--disable-dev-shm-usage')  # Evitar problemas de memoria\n",
    "driver = webdriver.Chrome(service=service, options=options)"
   ]
  },
  {
   "cell_type": "code",
   "execution_count": 24,
   "metadata": {},
   "outputs": [],
   "source": [
    "url = 'https://www.samsung.com/pe/monitors/all-monitors/?32-inch'"
   ]
  },
  {
   "cell_type": "code",
   "execution_count": 25,
   "metadata": {},
   "outputs": [],
   "source": [
    "driver.get(url)"
   ]
  },
  {
   "cell_type": "code",
   "execution_count": 26,
   "metadata": {},
   "outputs": [],
   "source": [
    "html = driver.page_source"
   ]
  },
  {
   "cell_type": "code",
   "execution_count": 29,
   "metadata": {},
   "outputs": [],
   "source": [
    "soup = BeautifulSoup(driver.page_source, 'html.parser')"
   ]
  },
  {
   "cell_type": "code",
   "execution_count": 31,
   "metadata": {},
   "outputs": [],
   "source": [
    "contenedores = soup.find_all('div', class_='pd19-product-card__cta-wrap')"
   ]
  },
  {
   "cell_type": "code",
   "execution_count": 39,
   "metadata": {},
   "outputs": [
    {
     "name": "stdout",
     "output_type": "stream",
     "text": [
      "Mandar mensaje que ya hay productos\n"
     ]
    }
   ],
   "source": [
    "nombres = []\n",
    "for contenedor in contenedores:\n",
    "    nombre_contain = contenedor.find('button', class_='cta cta--contained cta--black pd19-product-card__cta--buy-now js-pfv2-buy-now')\n",
    "    if nombre_contain:\n",
    "        nombre = nombre_contain.text.strip()\n",
    "    else:\n",
    "        nombre = 'Sin nombre'\n",
    "    nombres.append(nombre)\n",
    "\n",
    "if len(nombres) > 0:\n",
    "    print('Mandar mensaje que ya hay productos')"
   ]
  },
  {
   "cell_type": "code",
   "execution_count": null,
   "metadata": {},
   "outputs": [],
   "source": []
  }
 ],
 "metadata": {
  "kernelspec": {
   "display_name": "scrappers",
   "language": "python",
   "name": "python3"
  },
  "language_info": {
   "codemirror_mode": {
    "name": "ipython",
    "version": 3
   },
   "file_extension": ".py",
   "mimetype": "text/x-python",
   "name": "python",
   "nbconvert_exporter": "python",
   "pygments_lexer": "ipython3",
   "version": "3.11.11"
  }
 },
 "nbformat": 4,
 "nbformat_minor": 2
}
